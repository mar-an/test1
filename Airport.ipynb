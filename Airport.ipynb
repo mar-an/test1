{
  "nbformat": 4,
  "nbformat_minor": 0,
  "metadata": {
    "colab": {
      "name": "Airport.ipynb",
      "provenance": [],
      "collapsed_sections": [],
      "authorship_tag": "ABX9TyNDvIWbDeOlnvxDOY5Kp5B7",
      "include_colab_link": true
    },
    "kernelspec": {
      "display_name": "Python 3",
      "name": "python3"
    },
    "accelerator": "GPU"
  },
  "cells": [
    {
      "cell_type": "markdown",
      "metadata": {
        "id": "view-in-github",
        "colab_type": "text"
      },
      "source": [
        "<a href=\"https://colab.research.google.com/github/mar-an/test1/blob/master/Airport.ipynb\" target=\"_parent\"><img src=\"https://colab.research.google.com/assets/colab-badge.svg\" alt=\"Open In Colab\"/></a>"
      ]
    },
    {
      "cell_type": "code",
      "metadata": {
        "colab": {
          "base_uri": "https://localhost:8080/"
        },
        "id": "duWEewGTIHFy",
        "outputId": "4a388ee7-5fab-489d-8672-ff97f4371a2e"
      },
      "source": [
        "!python --version\n",
        "!java -version"
      ],
      "execution_count": 1,
      "outputs": [
        {
          "output_type": "stream",
          "text": [
            "Python 3.7.10\n",
            "openjdk version \"11.0.11\" 2021-04-20\n",
            "OpenJDK Runtime Environment (build 11.0.11+9-Ubuntu-0ubuntu2.18.04)\n",
            "OpenJDK 64-Bit Server VM (build 11.0.11+9-Ubuntu-0ubuntu2.18.04, mixed mode, sharing)\n"
          ],
          "name": "stdout"
        }
      ]
    },
    {
      "cell_type": "code",
      "metadata": {
        "colab": {
          "base_uri": "https://localhost:8080/"
        },
        "id": "Qx8NKe-0IPyx",
        "outputId": "c9477b7b-7fb8-426b-e28d-5e0c9d3e4d41"
      },
      "source": [
        "!cat /etc/issue"
      ],
      "execution_count": 2,
      "outputs": [
        {
          "output_type": "stream",
          "text": [
            "Ubuntu 18.04.5 LTS \\n \\l\n",
            "\n"
          ],
          "name": "stdout"
        }
      ]
    },
    {
      "cell_type": "code",
      "metadata": {
        "colab": {
          "base_uri": "https://localhost:8080/"
        },
        "id": "pST9D_m1ITX4",
        "outputId": "45b11d8f-b759-4a4b-8200-86abf8a64a20"
      },
      "source": [
        "ls -all"
      ],
      "execution_count": 3,
      "outputs": [
        {
          "output_type": "stream",
          "text": [
            "total 16\n",
            "drwxr-xr-x 1 root root 4096 May  6 13:44 \u001b[0m\u001b[01;34m.\u001b[0m/\n",
            "drwxr-xr-x 1 root root 4096 May 31 06:20 \u001b[01;34m..\u001b[0m/\n",
            "drwxr-xr-x 4 root root 4096 May  6 13:43 \u001b[01;34m.config\u001b[0m/\n",
            "drwxr-xr-x 1 root root 4096 May  6 13:44 \u001b[01;34msample_data\u001b[0m/\n"
          ],
          "name": "stdout"
        }
      ]
    },
    {
      "cell_type": "code",
      "metadata": {
        "colab": {
          "base_uri": "https://localhost:8080/"
        },
        "id": "jL5RzH-MIV7r",
        "outputId": "d7db87bf-45a6-43b1-df21-2c13476bb8be"
      },
      "source": [
        "!whoami"
      ],
      "execution_count": 6,
      "outputs": [
        {
          "output_type": "stream",
          "text": [
            "root\n"
          ],
          "name": "stdout"
        }
      ]
    },
    {
      "cell_type": "markdown",
      "metadata": {
        "id": "HA19yCcRoKB2"
      },
      "source": [
        "Instalacja srodowiska"
      ]
    },
    {
      "cell_type": "code",
      "metadata": {
        "id": "YN8SJLFuoN8q"
      },
      "source": [
        "!wget -q https://downloads.apache.org/spark/spark-3.1.1/spark-3.1.1-bin-hadoop2.7.tgz \n",
        "!tar -xvf spark-3.1.1-bin-hadoop2.7.tgz \n",
        "!pip install -q findspark\n",
        "\n",
        "import os\n",
        "#os.environ[\"JAVA_HOME\"] = \"/usr/lib/jvm/default-java\"\n",
        "os.environ[\"SPARK_HOME\"] = \"/content/spark-3.1.1-bin-hadoop2.7\""
      ],
      "execution_count": null,
      "outputs": []
    },
    {
      "cell_type": "code",
      "metadata": {
        "id": "HsjbSBm-eqb1",
        "colab": {
          "base_uri": "https://localhost:8080/"
        },
        "outputId": "425448ed-9f85-4286-bf4b-032a6844e9c5"
      },
      "source": [
        "!ls -l /content/spark-3.1.1-bin-hadoop2.7/jars/graphframes-0.8.0-spark3.0-s_2.12.jar"
      ],
      "execution_count": 11,
      "outputs": [
        {
          "output_type": "stream",
          "text": [
            "-rw-r--r-- 1 root root 243265 May 31 06:38 /content/spark-3.1.1-bin-hadoop2.7/jars/graphframes-0.8.0-spark3.0-s_2.12.jar\n"
          ],
          "name": "stdout"
        }
      ]
    },
    {
      "cell_type": "markdown",
      "metadata": {
        "id": "W2F0i8sgf-0P"
      },
      "source": [
        "Instalacja biblioteki Graphframe"
      ]
    },
    {
      "cell_type": "code",
      "metadata": {
        "id": "MAVmAfK3rtLv",
        "colab": {
          "base_uri": "https://localhost:8080/"
        },
        "outputId": "0e1b71e9-a60e-4b45-9f65-d25fed7ef298"
      },
      "source": [
        "!pip install graphframes"
      ],
      "execution_count": 12,
      "outputs": [
        {
          "output_type": "stream",
          "text": [
            "Collecting graphframes\n",
            "  Downloading https://files.pythonhosted.org/packages/0b/27/c7c7e1ced2fe9a905f865dd91faaec2ac8a8e313f511678c8ec92a41a153/graphframes-0.6-py2.py3-none-any.whl\n",
            "Collecting nose\n",
            "\u001b[?25l  Downloading https://files.pythonhosted.org/packages/15/d8/dd071918c040f50fa1cf80da16423af51ff8ce4a0f2399b7bf8de45ac3d9/nose-1.3.7-py3-none-any.whl (154kB)\n",
            "\u001b[K     |████████████████████████████████| 163kB 16.5MB/s \n",
            "\u001b[?25hRequirement already satisfied: numpy in /usr/local/lib/python3.7/dist-packages (from graphframes) (1.19.5)\n",
            "Installing collected packages: nose, graphframes\n",
            "Successfully installed graphframes-0.6 nose-1.3.7\n"
          ],
          "name": "stdout"
        }
      ]
    },
    {
      "cell_type": "code",
      "metadata": {
        "id": "nplMVtuy9Nfq"
      },
      "source": [
        "#!/content/spark-3.1.1-bin-hadoop2.7/bin/pyspark --packages graphframes:graphframes:0.8.0-spark3.0-s_2.12 --jars graphframes-0.8.0-spark3.0-s_2.12.jar\n",
        "!$SPARK_HOME/bin/spark-shell --jars graphframes-0.8.0-spark3.0-s_2.12.jar"
      ],
      "execution_count": null,
      "outputs": []
    },
    {
      "cell_type": "markdown",
      "metadata": {
        "id": "UJXDeqdrn-bu"
      },
      "source": [
        "Tworzymy nowy projekt i ustawiamy zmienne środowiska"
      ]
    },
    {
      "cell_type": "code",
      "metadata": {
        "id": "C7k9PJtlnv61"
      },
      "source": [
        "import findspark\n",
        "findspark.init()\n",
        "\n",
        "from pyspark.sql.types import *\n",
        "from pyspark.sql import functions as F\n",
        "\n",
        "import matplotlib\n",
        "import matplotlib.pyplot as plt\n",
        "plt.style.use('fivethirtyeight')\n",
        "\n",
        "from pyspark.sql import SparkSession\n",
        "spark = SparkSession.builder.appName('baza').getOrCreate()"
      ],
      "execution_count": 15,
      "outputs": []
    },
    {
      "cell_type": "markdown",
      "metadata": {
        "id": "AAbU5hNiIugB"
      },
      "source": [
        "Wczytanie danych z plików"
      ]
    },
    {
      "cell_type": "code",
      "metadata": {
        "colab": {
          "base_uri": "https://localhost:8080/"
        },
        "id": "Rz3zVX4odLI-",
        "outputId": "1d26da72-527e-4ef8-c4ff-75f6df88c713"
      },
      "source": [
        "#wczytanie pliku z lotniskami\n",
        "rawDataAirport = spark.read.csv(\"sample_data/airports.dat\");\n",
        "\n",
        "C_rawDataAirport = (rawDataAirport.select(\"_c0\", \"_c1\", \"_c2\", \"_c3\", \"_c4\", \"_c6\", \"_c7\")\n",
        "                 #.filter(\"_c3 = 'United States'\")\n",
        "                 .withColumnRenamed(\"_c0\", \"id\")\n",
        "                 .withColumnRenamed(\"_c3\", \"country\")\n",
        "                 .withColumnRenamed(\"_c6\", \"latitude\")\n",
        "                 .withColumnRenamed(\"_c7\", \"longitude\"))\n",
        "C_rawDataAirport = C_rawDataAirport[C_rawDataAirport[\"id\"] != \"\\\\N\"]\n",
        "\n",
        "C_rawDataAirport.show();\n",
        "\n",
        "\n",
        "\n",
        "#wczytanie pliku z lotami\n",
        "rawDataRoutes = spark.read.csv(\"sample_data/routes.dat\");\n",
        "C_rawDataRoutes = (rawDataRoutes.select(\"_c0\", \"_c1\", \"_c2\", \"_c3\", \"_c4\", \"_c5\", \"_c6\", \"_c7\", \"_c8\")   \n",
        "                .withColumnRenamed(\"_c0\", \"c0\")\n",
        "                .withColumnRenamed(\"_c1\", \"c1\")\n",
        "                .withColumnRenamed(\"_c2\", \"src\")\n",
        "                .withColumnRenamed(\"_c3\", \"c3\")\n",
        "                .withColumnRenamed(\"_c4\", \"dst\")\n",
        "                .withColumnRenamed(\"_c5\", \"c5\")\n",
        "                .withColumnRenamed(\"_c6\", \"c6\")\n",
        "                .withColumnRenamed(\"_c7\", \"c7\")\n",
        "                .withColumnRenamed(\"_c8\", \"c8\"))\n",
        "C_rawDataRoutes.show();\n",
        "\n",
        "#utworzenie grafa\n",
        "from graphframes import *\n",
        "g = GraphFrame(C_rawDataAirport, C_rawDataRoutes)"
      ],
      "execution_count": 16,
      "outputs": [
        {
          "output_type": "stream",
          "text": [
            "+---+--------------------+--------------+----------------+---+------------------+-------------------+\n",
            "| id|                 _c1|           _c2|         country|_c4|          latitude|          longitude|\n",
            "+---+--------------------+--------------+----------------+---+------------------+-------------------+\n",
            "|  1|      Goroka Airport|        Goroka|Papua New Guinea|GKA|-6.081689834590001|      145.391998291|\n",
            "|  2|      Madang Airport|        Madang|Papua New Guinea|MAG|    -5.20707988739|      145.789001465|\n",
            "|  3|Mount Hagen Kagam...|   Mount Hagen|Papua New Guinea|HGU|-5.826789855957031| 144.29600524902344|\n",
            "|  4|      Nadzab Airport|        Nadzab|Papua New Guinea|LAE|         -6.569803|         146.725977|\n",
            "|  5|Port Moresby Jack...|  Port Moresby|Papua New Guinea|POM|-9.443380355834961| 147.22000122070312|\n",
            "|  6|Wewak Internation...|         Wewak|Papua New Guinea|WWK|    -3.58383011818|      143.669006348|\n",
            "|  7|  Narsarsuaq Airport|  Narssarssuaq|       Greenland|UAK|     61.1604995728|     -45.4259986877|\n",
            "|  8|Godthaab / Nuuk A...|      Godthaab|       Greenland|GOH|       64.19090271|     -51.6781005859|\n",
            "|  9|Kangerlussuaq Air...|   Sondrestrom|       Greenland|SFJ|     67.0122218992|     -50.7116031647|\n",
            "| 10|      Thule Air Base|         Thule|       Greenland|THU|     76.5311965942|     -68.7032012939|\n",
            "| 11|    Akureyri Airport|      Akureyri|         Iceland|AEY| 65.66000366210938| -18.07270050048828|\n",
            "| 12| Egilsstaðir Airport|   Egilsstadir|         Iceland|EGS|  65.2833023071289|-14.401399612426758|\n",
            "| 13|Hornafjörður Airport|          Hofn|         Iceland|HFN|         64.295601|           -15.2272|\n",
            "| 14|     Húsavík Airport|       Husavik|         Iceland|HZK|         65.952301|         -17.426001|\n",
            "| 15|  Ísafjörður Airport|    Isafjordur|         Iceland|IFJ| 66.05809783935547|-23.135299682617188|\n",
            "| 16|Keflavik Internat...|      Keflavik|         Iceland|KEF|   63.985000610352|   -22.605600357056|\n",
            "| 17|Patreksfjörður Ai...|Patreksfjordur|         Iceland|PFJ|         65.555801|            -23.965|\n",
            "| 18|   Reykjavik Airport|     Reykjavik|         Iceland|RKV|     64.1299972534|     -21.9405994415|\n",
            "| 19|Siglufjörður Airport|  Siglufjordur|         Iceland|SIJ|         66.133301|           -18.9167|\n",
            "| 20|Vestmannaeyjar Ai...|Vestmannaeyjar|         Iceland|VEY| 63.42430114746094|-20.278900146484375|\n",
            "+---+--------------------+--------------+----------------+---+------------------+-------------------+\n",
            "only showing top 20 rows\n",
            "\n",
            "+---+---+---+----+---+----+----+---+---+\n",
            "| c0| c1|src|  c3|dst|  c5|  c6| c7| c8|\n",
            "+---+---+---+----+---+----+----+---+---+\n",
            "| 2B|410|AER|2965|KZN|2990|null|  0|CR2|\n",
            "| 2B|410|ASF|2966|KZN|2990|null|  0|CR2|\n",
            "| 2B|410|ASF|2966|MRV|2962|null|  0|CR2|\n",
            "| 2B|410|CEK|2968|KZN|2990|null|  0|CR2|\n",
            "| 2B|410|CEK|2968|OVB|4078|null|  0|CR2|\n",
            "| 2B|410|DME|4029|KZN|2990|null|  0|CR2|\n",
            "| 2B|410|DME|4029|NBC|6969|null|  0|CR2|\n",
            "| 2B|410|DME|4029|TGK|  \\N|null|  0|CR2|\n",
            "| 2B|410|DME|4029|UUA|6160|null|  0|CR2|\n",
            "| 2B|410|EGO|6156|KGD|2952|null|  0|CR2|\n",
            "| 2B|410|EGO|6156|KZN|2990|null|  0|CR2|\n",
            "| 2B|410|GYD|2922|NBC|6969|null|  0|CR2|\n",
            "| 2B|410|KGD|2952|EGO|6156|null|  0|CR2|\n",
            "| 2B|410|KZN|2990|AER|2965|null|  0|CR2|\n",
            "| 2B|410|KZN|2990|ASF|2966|null|  0|CR2|\n",
            "| 2B|410|KZN|2990|CEK|2968|null|  0|CR2|\n",
            "| 2B|410|KZN|2990|DME|4029|null|  0|CR2|\n",
            "| 2B|410|KZN|2990|EGO|6156|null|  0|CR2|\n",
            "| 2B|410|KZN|2990|LED|2948|null|  0|CR2|\n",
            "| 2B|410|KZN|2990|SVX|2975|null|  0|CR2|\n",
            "+---+---+---+----+---+----+----+---+---+\n",
            "only showing top 20 rows\n",
            "\n"
          ],
          "name": "stdout"
        }
      ]
    },
    {
      "cell_type": "markdown",
      "metadata": {
        "id": "b8SUOoxkW7k-"
      },
      "source": [
        "Wykaz polskich lotnisk"
      ]
    },
    {
      "cell_type": "code",
      "metadata": {
        "colab": {
          "base_uri": "https://localhost:8080/"
        },
        "id": "3D96nAvT7P6n",
        "outputId": "9d6ea7b5-332f-48d3-976c-951903b20e8b"
      },
      "source": [
        "g.vertices.filter(\"country = 'Poland'\").show(n=100);\n",
        "#g.vertices.show(n=100);"
      ],
      "execution_count": 17,
      "outputs": [
        {
          "output_type": "stream",
          "text": [
            "+-----+--------------------+-------------------+-------+---+------------------+------------------+\n",
            "|   id|                 _c1|                _c2|country|_c4|          latitude|         longitude|\n",
            "+-----+--------------------+-------------------+-------+---+------------------+------------------+\n",
            "|  667|      Babice Airport|             Warsaw| Poland| \\N| 52.26850128173828|20.910999298095703|\n",
            "|  668|Gdańsk Lech Wałęs...|             Gdansk| Poland|GDN|54.377601623535156| 18.46619987487793|\n",
            "|  669|Kraków John Paul ...|             Krakow| Poland|KRK|         50.077702|           19.7848|\n",
            "|  670|   Muchowiec Airport|           Katowice| Poland| \\N| 50.23809814453125| 19.03420066833496|\n",
            "|  671|Katowice Internat...|           Katowice| Poland|KTW|           50.4743|             19.08|\n",
            "|  673|      Mielec Airport|             Mielec| Poland| \\N| 50.32229995727539|21.462099075317383|\n",
            "|  674|Poznań-Ławica Air...|             Poznan| Poland|POZ|52.421001434299995|     16.8262996674|\n",
            "|  675|Rzeszów-Jasionka ...|            Rzeszow| Poland|RZE|     50.1100006104|     22.0189990997|\n",
            "|  676|\"Szczecin-Golenió...|           Szczecin| Poland|SZZ|53.584701538100006|14.902199745199999|\n",
            "|  677|  Redzikowo Air Base|             Slupsk| Poland|OSP| 54.47890090942383|17.107500076293945|\n",
            "|  678|Swidwin Military ...|            Shapaja| Poland| \\N|      53.790599823|15.826299667399999|\n",
            "|  679|Warsaw Chopin Air...|             Warsaw| Poland|WAW|     52.1656990051|20.967100143399996|\n",
            "|  680|Copernicus Wrocła...|            Wroclaw| Poland|WRO|     51.1026992798|      16.885799408|\n",
            "|  681|Zielona Góra-Babi...|       Zielona Gora| Poland|IEG|52.138500213600004|     15.7986001968|\n",
            "| 5591|Bydgoszcz Ignacy ...|          Bydgoszcz| Poland|BZG|53.096801757799994|     17.9776992798|\n",
            "| 5592|Łódź Władysław Re...|               Lodz| Poland|LCJ|51.721900939899996|     19.3980998993|\n",
            "| 6425|Szczecin-Dąbie Ai...|           Szczecin| Poland| \\N|  53.3921012878418| 14.63379955291748|\n",
            "| 6499|Bielsko Biala Air...|      Bielsko-Biala| Poland| \\N| 49.80500030517578| 19.00189971923828|\n",
            "| 7685|      Lotnisko Korne|           Koszalin| Poland| \\N|         54.129583|         17.844972|\n",
            "| 7812|Oksywie Military ...|             Gdynia| Poland|QYD|       54.57970047|       18.51720047|\n",
            "| 7813|Malbork Military ...|            Malbork| Poland| \\N|     54.0269012451|19.134199142499998|\n",
            "| 7814|Lask Military Air...|               Lask| Poland| \\N|      51.551700592|19.179100036599998|\n",
            "| 7815|Miroslawiec Milit...|        Miroslawiec| Poland| \\N|53.395099639899996|     16.0827999115|\n",
            "| 7816|Krzesiny Military...|             Poznan| Poland| \\N|     52.3316993713|     16.9664001465|\n",
            "| 8029|       Radom Airport|              RADOM| Poland|RDO|     51.3891983032|      21.213300705|\n",
            "| 8414|      Modlin Airport|             Warsaw| Poland|WMI|         52.451099|           20.6518|\n",
            "| 8633|Inowroclaw Milita...|         Inowroclaw| Poland| \\N|     52.8293991089|     18.3306007385|\n",
            "| 8634|Pruszcz Gdanski A...|     Pruszcz Gdansk| Poland| \\N|         54.248001|           18.6716|\n",
            "| 8751|    Góraszka Airport|           Goraszka| Poland| \\N| 52.18444061279297|21.281110763549805|\n",
            "| 8832|      Lublin Airport|             Lublin| Poland|LUZ|         51.240278|         22.713611|\n",
            "|11103|Olsztyn-Mazury Ai...|   Szczytno-Szymany| Poland|SZY|         53.481899|           20.9377|\n",
            "|11386|Jelenia Góra Glid...|       Jelenia Gora| Poland| \\N| 50.89889907836914|15.785599708557129|\n",
            "|11790|Biała Podlaska Ai...|     Biała Podlaska| Poland|BXP|          52.00078|        23.1325278|\n",
            "|11791|     Cewice Air Base|             Lębork| Poland| \\N|            54.416|           17.7633|\n",
            "|11792|Deblin Military A...|             Dęblin| Poland| \\N|      51.551399231|     21.8936004639|\n",
            "|11793|Leczyca Military ...|            Leczyca| Poland| \\N|      52.004699707|     19.1455993652|\n",
            "|11794|Minsk Mazowiecki ...|               null| Poland| \\N|     52.1954994202|     21.6558990479|\n",
            "|11795|Powidz Military A...|               null| Poland| \\N|         52.379398|         17.853901|\n",
            "|11796|Tomaszow Mazowiec...|Tomaszów Mazowiecki| Poland| \\N|      51.584400177|     20.0977993011|\n",
            "|13453|     Suwałki Airport|            Suwalki| Poland| \\N| 54.07279968261719|22.899200439453125|\n",
            "|13621|   Jastarnia Airport|          Jastarnia| Poland| \\N| 54.71028137207031|18.645280838012695|\n",
            "+-----+--------------------+-------------------+-------+---+------------------+------------------+\n",
            "\n"
          ],
          "name": "stdout"
        }
      ]
    },
    {
      "cell_type": "markdown",
      "metadata": {
        "id": "6zvFq_tmW0vA"
      },
      "source": [
        "Ilość lotów wychodzących z polskich lotnisk"
      ]
    },
    {
      "cell_type": "code",
      "metadata": {
        "colab": {
          "base_uri": "https://localhost:8080/"
        },
        "id": "ggADE1f4Ep-2",
        "outputId": "6df7625f-34fe-4ab4-cb13-020a19767e76"
      },
      "source": [
        "#kody wszystkich lotnisk z ilością lotów pogrupowanych po src (routes.dat)\n",
        "airports = (g.edges\n",
        " .groupBy(\"src\")\n",
        " .agg(F.count(\"src\").alias(\"flights1\"))\n",
        " .sort(\"flights1\", ascending=False))\n",
        "\n",
        "#połączenie obu struktur danych po kolumnie i z ilościa lotów src\n",
        "dest = (g.vertices\n",
        "                      .join(airports, airports.src == g.vertices._c4)\n",
        "                      .select(\"_c1\", \"_c4\", \"flights1\", \"country\")\n",
        "                      .filter(\"country = 'Poland'\")\n",
        "                      .sort(\"flights1\", ascending=False))\n",
        "\n",
        "\n",
        "airlines.show(10)\n",
        "dest.show(n=50,truncate = True)"
      ],
      "execution_count": 33,
      "outputs": [
        {
          "output_type": "stream",
          "text": [
            "+---+--------+\n",
            "|src|flights1|\n",
            "+---+--------+\n",
            "|ATL|     915|\n",
            "|ORD|     558|\n",
            "|PEK|     535|\n",
            "|LHR|     527|\n",
            "|CDG|     524|\n",
            "|FRA|     497|\n",
            "|LAX|     492|\n",
            "|DFW|     469|\n",
            "|JFK|     456|\n",
            "|AMS|     453|\n",
            "+---+--------+\n",
            "only showing top 10 rows\n",
            "\n",
            "+--------------------+---+--------+-------+\n",
            "|                 _c1|_c4|flights1|country|\n",
            "+--------------------+---+--------+-------+\n",
            "|Warsaw Chopin Air...|WAW|     120| Poland|\n",
            "|Kraków John Paul ...|KRK|      57| Poland|\n",
            "|Gdańsk Lech Wałęs...|GDN|      51| Poland|\n",
            "|Copernicus Wrocła...|WRO|      33| Poland|\n",
            "|Katowice Internat...|KTW|      28| Poland|\n",
            "|      Modlin Airport|WMI|      26| Poland|\n",
            "|Poznań-Ławica Air...|POZ|      21| Poland|\n",
            "|Rzeszów-Jasionka ...|RZE|      11| Poland|\n",
            "|\"Szczecin-Golenió...|SZZ|       7| Poland|\n",
            "|      Lublin Airport|LUZ|       6| Poland|\n",
            "|Bydgoszcz Ignacy ...|BZG|       3| Poland|\n",
            "+--------------------+---+--------+-------+\n",
            "\n"
          ],
          "name": "stdout"
        }
      ]
    },
    {
      "cell_type": "markdown",
      "metadata": {
        "id": "etX6LjG-XCZE"
      },
      "source": [
        "Ilość lotów przychodzących z polskich lotnisk"
      ]
    },
    {
      "cell_type": "code",
      "metadata": {
        "colab": {
          "base_uri": "https://localhost:8080/"
        },
        "id": "kqyNTjIZXICG",
        "outputId": "39833f4b-ec5d-4fe9-b789-6e30cfe612f1"
      },
      "source": [
        "#to samo dla połaczenia ramek do ilosci lotów dst\n",
        "airports1 = (g.edges\n",
        " .groupBy(\"dst\")\n",
        " .agg(F.count(\"dst\").alias(\"flights2\"))\n",
        " .sort(\"flights2\", ascending=False))\n",
        "\n",
        "arrival = (g.vertices\n",
        "                      .join(airports1, airports1.dst == g.vertices._c4)\n",
        "                      .select(\"_c1\", \"_c4\", \"flights2\", \"country\")\n",
        "                      .filter(\"country = 'Poland'\")\n",
        "                      .sort(\"flights2\", ascending=False))\n",
        "\n",
        "arrival.show(n=100,truncate = True)"
      ],
      "execution_count": 34,
      "outputs": [
        {
          "output_type": "stream",
          "text": [
            "+--------------------+---+--------+-------+\n",
            "|                 _c1|_c4|flights2|country|\n",
            "+--------------------+---+--------+-------+\n",
            "|Warsaw Chopin Air...|WAW|     120| Poland|\n",
            "|Kraków John Paul ...|KRK|      57| Poland|\n",
            "|Gdańsk Lech Wałęs...|GDN|      50| Poland|\n",
            "|Copernicus Wrocła...|WRO|      33| Poland|\n",
            "|Katowice Internat...|KTW|      28| Poland|\n",
            "|      Modlin Airport|WMI|      26| Poland|\n",
            "|Poznań-Ławica Air...|POZ|      21| Poland|\n",
            "|Rzeszów-Jasionka ...|RZE|      11| Poland|\n",
            "|\"Szczecin-Golenió...|SZZ|       7| Poland|\n",
            "|      Lublin Airport|LUZ|       6| Poland|\n",
            "|Bydgoszcz Ignacy ...|BZG|       3| Poland|\n",
            "+--------------------+---+--------+-------+\n",
            "\n"
          ],
          "name": "stdout"
        }
      ]
    },
    {
      "cell_type": "markdown",
      "metadata": {
        "id": "bjeBsTqOjpJt"
      },
      "source": [
        "Loty międzynarodowe z polskich lotnisk"
      ]
    },
    {
      "cell_type": "code",
      "metadata": {
        "id": "HMFsteaQZci8"
      },
      "source": [
        "polskie_lotniska = g.vertices.filter(\"country = 'Poland'\")\n",
        "\n",
        "loty_miedzynar = (polskie_lotniska\n",
        "                      .join(g.edges, g.edges.src == polskie_lotniska._c4)                      \n",
        "                      .select(\"_c1\", \"_c4\", \"src\", \"dst\", \"country\")\n",
        "                      #.filter((polskie_lotniska._c4 == g.edges.src) & (polskie_lotniska._c4 == g.edges.dst))                \n",
        "                      .sort(\"_c4\", ascending=False))\n",
        "\n",
        "loty_miedzynar.show(n =1000)\n",
        "#grouped_df=loty_miedzynar.groupby([\"_c1\"]).count()\n",
        "#grouped_df.show(n=100)"
      ],
      "execution_count": null,
      "outputs": []
    },
    {
      "cell_type": "markdown",
      "metadata": {
        "id": "vUGRu034ErTJ"
      },
      "source": [
        "Loty międzynarodowe z polskich lotnisk - SQL"
      ]
    },
    {
      "cell_type": "code",
      "metadata": {
        "colab": {
          "base_uri": "https://localhost:8080/"
        },
        "id": "FT4kw3krmhch",
        "outputId": "2f6e2ee9-938f-427f-fc99-a5c4e9d960f3"
      },
      "source": [
        "polskie_lotniska = g.vertices.filter(\"country = 'Poland'\")\n",
        "\n",
        "polskie_lotniska.createOrReplaceTempView('polskie_lotniska')\n",
        "g.edges.createOrReplaceTempView('edges')\n",
        "\n",
        "spark.sql('''\n",
        "SELECT _c1, count(dst), count(src)\n",
        "FROM edges\n",
        "LEFT JOIN polskie_lotniska\n",
        "ON polskie_lotniska._c4 = edges.src\n",
        "WHERE (edges.dst NOT IN (SELECT _c4 FROM polskie_lotniska)) AND (edges.src  IN (SELECT _c4 FROM polskie_lotniska) )\n",
        "GROUP by _c1\n",
        "ORDER by count(dst) desc\n",
        "''').show(n=200)\n",
        "\n",
        "\n",
        "### przyloty z zagranicy do polski - wyniki bez grupowania\n",
        "#spark.sql('''\n",
        "#SELECT _c1, dst, src\n",
        "#FROM edges\n",
        "#LEFT JOIN polskie_lotniska\n",
        "#ON polskie_lotniska._c4 = edges.src\n",
        "#WHERE (edges.dst NOT IN (SELECT _c4 FROM polskie_lotniska)) AND (edges.src IN (SELECT _c4 FROM polskie_lotniska) )\n",
        "#ORDER by _c1 desc\n",
        "#''').show(n=200)\n",
        "\n",
        "\n",
        "\n",
        "#SELECT _c1, count(dst), count(src)\n",
        "#FROM edges\n",
        "#LEFT JOIN polskie_lotniska\n",
        "#ON polskie_lotniska._c4 = edges.dst\n",
        "#WHERE (edges.dst IN (SELECT _c4 FROM polskie_lotniska)) AND (edges.src NOT IN (SELECT _c4 FROM polskie_lotniska))\n",
        "#GROUP by _c1\n",
        "#ORDER by count(dst) desc\n",
        "\n"
      ],
      "execution_count": 35,
      "outputs": [
        {
          "output_type": "stream",
          "text": [
            "+--------------------+----------+----------+\n",
            "|                 _c1|count(dst)|count(src)|\n",
            "+--------------------+----------+----------+\n",
            "|Warsaw Chopin Air...|       113|       113|\n",
            "|Kraków John Paul ...|        55|        55|\n",
            "|Gdańsk Lech Wałęs...|        46|        46|\n",
            "|Copernicus Wrocła...|        30|        30|\n",
            "|Katowice Internat...|        27|        27|\n",
            "|      Modlin Airport|        24|        24|\n",
            "|Poznań-Ławica Air...|        20|        20|\n",
            "|Rzeszów-Jasionka ...|        10|        10|\n",
            "|\"Szczecin-Golenió...|         6|         6|\n",
            "|      Lublin Airport|         5|         5|\n",
            "|Bydgoszcz Ignacy ...|         3|         3|\n",
            "+--------------------+----------+----------+\n",
            "\n"
          ],
          "name": "stdout"
        }
      ]
    },
    {
      "cell_type": "code",
      "metadata": {
        "colab": {
          "base_uri": "https://localhost:8080/"
        },
        "id": "CZ9tZ5fJxnyU",
        "outputId": "51314add-b6bf-4cd6-b1d3-9d8694498ea4"
      },
      "source": [
        "spark.sql('''SELECT *\n",
        "FROM polskie_lotniska\n",
        "sort by _c1''').show(n=100)"
      ],
      "execution_count": null,
      "outputs": [
        {
          "output_type": "stream",
          "text": [
            "+-----+--------------------+-------------------+-------+---+------------------+------------------+\n",
            "|   id|                 _c1|                _c2|country|_c4|          latitude|         longitude|\n",
            "+-----+--------------------+-------------------+-------+---+------------------+------------------+\n",
            "|  676|\"Szczecin-Golenió...|           Szczecin| Poland|SZZ|53.584701538100006|14.902199745199999|\n",
            "|  667|      Babice Airport|             Warsaw| Poland| \\N| 52.26850128173828|20.910999298095703|\n",
            "|11790|Biała Podlaska Ai...|     Biała Podlaska| Poland|BXP|          52.00078|        23.1325278|\n",
            "| 6499|Bielsko Biala Air...|      Bielsko-Biala| Poland| \\N| 49.80500030517578| 19.00189971923828|\n",
            "| 5591|Bydgoszcz Ignacy ...|          Bydgoszcz| Poland|BZG|53.096801757799994|     17.9776992798|\n",
            "|11791|     Cewice Air Base|             Lębork| Poland| \\N|            54.416|           17.7633|\n",
            "|  680|Copernicus Wrocła...|            Wroclaw| Poland|WRO|     51.1026992798|      16.885799408|\n",
            "|11792|Deblin Military A...|             Dęblin| Poland| \\N|      51.551399231|     21.8936004639|\n",
            "|  668|Gdańsk Lech Wałęs...|             Gdansk| Poland|GDN|54.377601623535156| 18.46619987487793|\n",
            "| 8751|    Góraszka Airport|           Goraszka| Poland| \\N| 52.18444061279297|21.281110763549805|\n",
            "| 8633|Inowroclaw Milita...|         Inowroclaw| Poland| \\N|     52.8293991089|     18.3306007385|\n",
            "|13621|   Jastarnia Airport|          Jastarnia| Poland| \\N| 54.71028137207031|18.645280838012695|\n",
            "|11386|Jelenia Góra Glid...|       Jelenia Gora| Poland| \\N| 50.89889907836914|15.785599708557129|\n",
            "|  671|Katowice Internat...|           Katowice| Poland|KTW|           50.4743|             19.08|\n",
            "|  669|Kraków John Paul ...|             Krakow| Poland|KRK|         50.077702|           19.7848|\n",
            "| 7816|Krzesiny Military...|             Poznan| Poland| \\N|     52.3316993713|     16.9664001465|\n",
            "| 7814|Lask Military Air...|               Lask| Poland| \\N|      51.551700592|19.179100036599998|\n",
            "|11793|Leczyca Military ...|            Leczyca| Poland| \\N|      52.004699707|     19.1455993652|\n",
            "| 7685|      Lotnisko Korne|           Koszalin| Poland| \\N|         54.129583|         17.844972|\n",
            "| 8832|      Lublin Airport|             Lublin| Poland|LUZ|         51.240278|         22.713611|\n",
            "| 7813|Malbork Military ...|            Malbork| Poland| \\N|     54.0269012451|19.134199142499998|\n",
            "|  673|      Mielec Airport|             Mielec| Poland| \\N| 50.32229995727539|21.462099075317383|\n",
            "|11794|Minsk Mazowiecki ...|               null| Poland| \\N|     52.1954994202|     21.6558990479|\n",
            "| 7815|Miroslawiec Milit...|        Miroslawiec| Poland| \\N|53.395099639899996|     16.0827999115|\n",
            "| 8414|      Modlin Airport|             Warsaw| Poland|WMI|         52.451099|           20.6518|\n",
            "|  670|   Muchowiec Airport|           Katowice| Poland| \\N| 50.23809814453125| 19.03420066833496|\n",
            "| 7812|Oksywie Military ...|             Gdynia| Poland|QYD|       54.57970047|       18.51720047|\n",
            "|11103|Olsztyn-Mazury Ai...|   Szczytno-Szymany| Poland|SZY|         53.481899|           20.9377|\n",
            "|11795|Powidz Military A...|               null| Poland| \\N|         52.379398|         17.853901|\n",
            "|  674|Poznań-Ławica Air...|             Poznan| Poland|POZ|52.421001434299995|     16.8262996674|\n",
            "| 8634|Pruszcz Gdanski A...|     Pruszcz Gdansk| Poland| \\N|         54.248001|           18.6716|\n",
            "| 8029|       Radom Airport|              RADOM| Poland|RDO|     51.3891983032|      21.213300705|\n",
            "|  677|  Redzikowo Air Base|             Slupsk| Poland|OSP| 54.47890090942383|17.107500076293945|\n",
            "|  675|Rzeszów-Jasionka ...|            Rzeszow| Poland|RZE|     50.1100006104|     22.0189990997|\n",
            "|13453|     Suwałki Airport|            Suwalki| Poland| \\N| 54.07279968261719|22.899200439453125|\n",
            "|  678|Swidwin Military ...|            Shapaja| Poland| \\N|      53.790599823|15.826299667399999|\n",
            "| 6425|Szczecin-Dąbie Ai...|           Szczecin| Poland| \\N|  53.3921012878418| 14.63379955291748|\n",
            "|11796|Tomaszow Mazowiec...|Tomaszów Mazowiecki| Poland| \\N|      51.584400177|     20.0977993011|\n",
            "|  679|Warsaw Chopin Air...|             Warsaw| Poland|WAW|     52.1656990051|20.967100143399996|\n",
            "|  681|Zielona Góra-Babi...|       Zielona Gora| Poland|IEG|52.138500213600004|     15.7986001968|\n",
            "| 5592|Łódź Władysław Re...|               Lodz| Poland|LCJ|51.721900939899996|     19.3980998993|\n",
            "+-----+--------------------+-------------------+-------+---+------------------+------------------+\n",
            "\n"
          ],
          "name": "stdout"
        }
      ]
    },
    {
      "cell_type": "markdown",
      "metadata": {
        "id": "_C2Vi1ser3CM"
      },
      "source": [
        "Wczytanie wartości opisy portów lotniczych - węzły (node)"
      ]
    },
    {
      "cell_type": "code",
      "metadata": {
        "id": "zKWpgugUr4hN"
      },
      "source": [
        "nodes = spark.read.csv(\"sample_data/airports.csv\", header=False)\n",
        "\n",
        "nodes.columns\n",
        "\n",
        "cleaned_nodes = (nodes.select(\"_c0\", \"_c1\", \"_c3\", \"_c4\", \"_c6\", \"_c7\")\n",
        "                 .filter(\"_c3 = 'United States'\")\n",
        "                 #.withColumnRenamed(\"_c0\", \"lp\")\n",
        "                 .withColumnRenamed(\"_c1\", \"name\")\n",
        "                 .withColumnRenamed(\"_c4\", \"id\")\n",
        "                 .withColumnRenamed(\"_c6\", \"latitude\")\n",
        "                 .withColumnRenamed(\"_c7\", \"longitude\")\n",
        "                 .drop(\"_c3\"))\n",
        "\n",
        "cleaned_nodes = cleaned_nodes[cleaned_nodes[\"id\"] != \"\\\\N\"]"
      ],
      "execution_count": null,
      "outputs": []
    },
    {
      "cell_type": "markdown",
      "metadata": {
        "id": "TQGMk0EjEIP2"
      },
      "source": [
        "sprawdz typ danych"
      ]
    },
    {
      "cell_type": "code",
      "metadata": {
        "colab": {
          "base_uri": "https://localhost:8080/"
        },
        "id": "jdqGLzUcEL6h",
        "outputId": "a225ed73-f461-4c37-bbc0-e951f5327e99"
      },
      "source": [
        "print(\"typ sktuktury danych dla zmiennej nodes {0}\".format(type(nodes)))\n",
        "print(\"typ sktuktury danych dla zmiennej cleaned_nodes {0}\".format(type(cleaned_nodes)))"
      ],
      "execution_count": null,
      "outputs": [
        {
          "output_type": "stream",
          "text": [
            "typ sktuktury danych dla zmiennej nodes <class 'pyspark.sql.dataframe.DataFrame'>\n",
            "typ sktuktury danych dla zmiennej cleaned_nodes <class 'pyspark.sql.dataframe.DataFrame'>\n"
          ],
          "name": "stdout"
        }
      ]
    },
    {
      "cell_type": "markdown",
      "metadata": {
        "id": "nCj-9ShmEZyb"
      },
      "source": [
        "oblicz rozmiar ramki"
      ]
    },
    {
      "cell_type": "code",
      "metadata": {
        "colab": {
          "base_uri": "https://localhost:8080/"
        },
        "id": "7aqDHZYNjTZ6",
        "outputId": "f4a6f306-6bc5-4220-db2f-62c1ca1b8ef4"
      },
      "source": [
        "print(\"Rozmiar ramki node {0}\".format(nodes.count()))\n",
        "print(\"Rozmiar ramki cleaned_node {0}\".format(cleaned_nodes.count()))"
      ],
      "execution_count": null,
      "outputs": [
        {
          "output_type": "stream",
          "text": [
            "Rozmiar ramki node 7184\n",
            "Rozmiar ramki cleaned_node 1333\n"
          ],
          "name": "stdout"
        }
      ]
    },
    {
      "cell_type": "code",
      "metadata": {
        "id": "u4HVUun11D1M",
        "colab": {
          "base_uri": "https://localhost:8080/"
        },
        "outputId": "e0b86f65-16d1-4a80-bfbb-6c62f581f4ef"
      },
      "source": [
        "cleaned_nodes.show(10, truncate=False)"
      ],
      "execution_count": null,
      "outputs": [
        {
          "output_type": "stream",
          "text": [
            "+----+----------------------------+---+------------------+-------------------+\n",
            "|_c0 |name                        |id |latitude          |longitude          |\n",
            "+----+----------------------------+---+------------------+-------------------+\n",
            "|3411|Barter Island LRRS Airport  |BTI|70.1340026855     |-143.582000732     |\n",
            "|3413|Cape Lisburne LRRS Airport  |LUR|68.87509918       |-166.1100006       |\n",
            "|3414|Point Lay LRRS Airport      |PIZ|69.73290253       |-163.0050049       |\n",
            "|3415|Hilo International Airport  |ITO|19.721399307250977|-155.04800415039062|\n",
            "|3416|Orlando Executive Airport   |ORL|28.545499801636   |-81.332901000977   |\n",
            "|3417|Bettles Airport             |BTT|66.91390228       |-151.529007        |\n",
            "|3418|Clear Airport               |Z84|64.301201         |-149.119995        |\n",
            "|3419|Indian Mountain LRRS Airport|UTO|65.99279785       |-153.7039948       |\n",
            "|3420|Fort Yukon Airport          |FYU|66.57150268554688 |-145.25            |\n",
            "|3421|Sparrevohn LRRS Airport     |SVW|61.09740067       |-155.5740051       |\n",
            "+----+----------------------------+---+------------------+-------------------+\n",
            "only showing top 10 rows\n",
            "\n"
          ],
          "name": "stdout"
        }
      ]
    },
    {
      "cell_type": "markdown",
      "metadata": {
        "id": "1junxrHksdjt"
      },
      "source": [
        "Wczytanie wartości relacji - krawędzie (egde) (dane o połączeniach za 1 miesiąc)\n"
      ]
    },
    {
      "cell_type": "code",
      "metadata": {
        "id": "caiOBfu-sege"
      },
      "source": [
        "relationships = spark.read.csv(\"sample_data/188591317_T_ONTIME.csv.gz\", header=True)\n",
        "\n",
        "cleaned_relationships = (relationships\n",
        "                         .select(\"ORIGIN\", \"DEST\", \"FL_DATE\", \"DEP_DELAY\", \"ARR_DELAY\",\n",
        "                                 \"DISTANCE\", \"TAIL_NUM\", \"FL_NUM\", \"CRS_DEP_TIME\",\n",
        "                                 \"CRS_ARR_TIME\", \"UNIQUE_CARRIER\")\n",
        "                         .withColumnRenamed(\"ORIGIN\", \"src\")\n",
        "                         .withColumnRenamed(\"DEST\", \"dst\")\n",
        "                         .withColumnRenamed(\"DEP_DELAY\", \"deptDelay\")\n",
        "                         .withColumnRenamed(\"ARR_DELAY\", \"arrDelay\")\n",
        "                         .withColumnRenamed(\"TAIL_NUM\", \"tailNumber\")\n",
        "                         .withColumnRenamed(\"FL_NUM\", \"flightNumber\")\n",
        "                         .withColumnRenamed(\"FL_DATE\", \"date\")\n",
        "                         .withColumnRenamed(\"CRS_DEP_TIME\", \"time\")\n",
        "                         .withColumnRenamed(\"CRS_ARR_TIME\", \"arrivalTime\")\n",
        "                         .withColumnRenamed(\"DISTANCE\", \"distance\")\n",
        "                         .withColumnRenamed(\"UNIQUE_CARRIER\", \"airline\")\n",
        "                         .withColumn(\"deptDelay\", F.col(\"deptDelay\").cast(FloatType()))\n",
        "                         .withColumn(\"arrDelay\", F.col(\"arrDelay\").cast(FloatType()))\n",
        "                         .withColumn(\"time\", F.col(\"time\").cast(IntegerType()))\n",
        "                         .withColumn(\"arrivalTime\", F.col(\"arrivalTime\").cast(IntegerType()))\n",
        "                         )"
      ],
      "execution_count": null,
      "outputs": []
    },
    {
      "cell_type": "code",
      "metadata": {
        "colab": {
          "base_uri": "https://localhost:8080/"
        },
        "id": "wm8HTdulPVkN",
        "outputId": "0501d973-d4e0-441e-fd7f-7a1280426996"
      },
      "source": [
        "print(\"Rozmiar ramki relationship {0}\".format(relationships.count()))\n",
        "print(\"Rozmiar ramki cleaned_relationships {0}\".format(cleaned_relationships.count()))"
      ],
      "execution_count": null,
      "outputs": [
        {
          "output_type": "stream",
          "text": [
            "Rozmiar ramki relationship 616529\n",
            "Rozmiar ramki cleaned_relationships 616529\n"
          ],
          "name": "stdout"
        }
      ]
    },
    {
      "cell_type": "code",
      "metadata": {
        "colab": {
          "base_uri": "https://localhost:8080/"
        },
        "id": "ETFZzX_PGMLi",
        "outputId": "f772b184-7ac4-42c5-f3dd-394c5b366bee"
      },
      "source": [
        "cleaned_relationships.show(10, truncate=False)\n",
        "cleaned_relationships.count()"
      ],
      "execution_count": null,
      "outputs": [
        {
          "output_type": "stream",
          "text": [
            "+---+---+----------+---------+--------+--------+----------+------------+----+-----------+-------+\n",
            "|src|dst|date      |deptDelay|arrDelay|distance|tailNumber|flightNumber|time|arrivalTime|airline|\n",
            "+---+---+----------+---------+--------+--------+----------+------------+----+-----------+-------+\n",
            "|ATL|SLC|2018-05-01|-1.0     |-3.0    |1590.00 |N6709     |15          |1920|2120       |DL     |\n",
            "|LAS|DTW|2018-05-01|7.0      |-2.0    |1749.00 |N820DN    |16          |1400|2102       |DL     |\n",
            "|DTW|LAS|2018-05-01|-4.0     |23.0    |1749.00 |N856DN    |17          |1757|1915       |DL     |\n",
            "|MSP|DTW|2018-05-01|-6.0     |-13.0   |528.00  |N329NB    |22          |1335|1615       |DL     |\n",
            "|DTW|MSP|2018-05-01|6.0      |6.0     |528.00  |N697DL    |23          |1556|1650       |DL     |\n",
            "|SAN|ATL|2018-05-01|-2.0     |-18.0   |1892.00 |N323DN    |30          |745 |1458       |DL     |\n",
            "|ATL|DFW|2018-05-01|-3.0     |-6.0    |731.00  |N901DE    |31          |1938|2102       |DL     |\n",
            "|DFW|ATL|2018-05-01|16.0     |2.0     |731.00  |N958DL    |32          |1720|2028       |DL     |\n",
            "|ATL|SAN|2018-05-01|-3.0     |-12.0   |1892.00 |N338DN    |33          |2110|2255       |DL     |\n",
            "|ANC|SEA|2018-05-01|-8.0     |-29.0   |1448.00 |N3745B    |34          |600 |1027       |DL     |\n",
            "+---+---+----------+---------+--------+--------+----------+------------+----+-----------+-------+\n",
            "only showing top 10 rows\n",
            "\n"
          ],
          "name": "stdout"
        },
        {
          "output_type": "execute_result",
          "data": {
            "text/plain": [
              "616529"
            ]
          },
          "metadata": {
            "tags": []
          },
          "execution_count": 11
        }
      ]
    },
    {
      "cell_type": "code",
      "metadata": {
        "colab": {
          "base_uri": "https://localhost:8080/"
        },
        "id": "nNDOhMqRG-q3",
        "outputId": "b07a18c3-13f0-4bee-9668-9b87d7715abb"
      },
      "source": [
        "print((cleaned_relationships.count(), len(cleaned_relationships.columns)))"
      ],
      "execution_count": null,
      "outputs": [
        {
          "output_type": "stream",
          "text": [
            "(616529, 11)\n"
          ],
          "name": "stdout"
        }
      ]
    },
    {
      "cell_type": "markdown",
      "metadata": {
        "id": "sl7r53EkgL3k"
      },
      "source": [
        "inicjalizacja grafów"
      ]
    },
    {
      "cell_type": "code",
      "metadata": {
        "id": "tCmO4WEmxMv7"
      },
      "source": [
        "#!export SPARK_OPTS=\"--packages graphframes:graphframes:0.8.0-spark3.0-s_2.12\"\n",
        "#from pyspark import SparkContext\n",
        "#spark.sparkContext.addPyFile('/content/spark-3.1.1-bin-hadoop2.7/jars/graphframes-0.8.0-spark3.0-s_2.12.jar')\n",
        "from graphframes import *\n",
        "g = GraphFrame(cleaned_nodes, cleaned_relationships)"
      ],
      "execution_count": null,
      "outputs": []
    },
    {
      "cell_type": "markdown",
      "metadata": {
        "id": "C-__2XCQQicU"
      },
      "source": [
        "sprawdz typ danych"
      ]
    },
    {
      "cell_type": "code",
      "metadata": {
        "colab": {
          "base_uri": "https://localhost:8080/"
        },
        "id": "MW9344xmQSPy",
        "outputId": "9c0efefe-1f25-48ff-bf50-b6f8cf0b4cc5"
      },
      "source": [
        "print(\"typ sktuktury danych dla zmiennej g {0}\".format(type(g)))"
      ],
      "execution_count": null,
      "outputs": [
        {
          "output_type": "stream",
          "text": [
            "typ sktuktury danych dla zmiennej g <class 'graphframes.graphframe.GraphFrame'>\n"
          ],
          "name": "stdout"
        }
      ]
    },
    {
      "cell_type": "markdown",
      "metadata": {
        "id": "YAFfxSI8exaA"
      },
      "source": [
        "ile lotniksk mamy w grafie?"
      ]
    },
    {
      "cell_type": "code",
      "metadata": {
        "colab": {
          "base_uri": "https://localhost:8080/"
        },
        "id": "GbZT_s6Xe2sl",
        "outputId": "4d93d64e-f8a6-4a6a-f2fd-b41e78eb452b"
      },
      "source": [
        "g.vertices.count()"
      ],
      "execution_count": null,
      "outputs": [
        {
          "output_type": "execute_result",
          "data": {
            "text/plain": [
              "1333"
            ]
          },
          "metadata": {
            "tags": []
          },
          "execution_count": 55
        }
      ]
    },
    {
      "cell_type": "markdown",
      "metadata": {
        "id": "rvZqRYPUe-CZ"
      },
      "source": [
        "ile mamy polączeń między lotniskami?"
      ]
    },
    {
      "cell_type": "code",
      "metadata": {
        "colab": {
          "base_uri": "https://localhost:8080/"
        },
        "id": "gteuSmXefApg",
        "outputId": "ae9d805f-150c-4956-9c90-8d0ef5d9d1db"
      },
      "source": [
        "g.edges.count()"
      ],
      "execution_count": null,
      "outputs": [
        {
          "output_type": "execute_result",
          "data": {
            "text/plain": [
              "616529"
            ]
          },
          "metadata": {
            "tags": []
          },
          "execution_count": 15
        }
      ]
    },
    {
      "cell_type": "markdown",
      "metadata": {
        "id": "klCbThdMg7ZW"
      },
      "source": [
        "Odczyt z pliku referencji kodów do nazw linii lotniczych. "
      ]
    },
    {
      "cell_type": "code",
      "metadata": {
        "id": "1JNlYrjoJARm",
        "colab": {
          "base_uri": "https://localhost:8080/"
        },
        "outputId": "1f9d21aa-852d-4887-a8e8-5f4316df8476"
      },
      "source": [
        "airlines_reference = (spark.read.csv(\"sample_data/airlines.csv\")\n",
        ".select(\"_c1\", \"_c3\")\n",
        ".withColumnRenamed(\"_c1\", \"name\")\n",
        ".withColumnRenamed(\"_c3\", \"code\"))\n",
        "airlines_reference = airlines_reference[airlines_reference[\"code\"] != \"null\"]\n",
        "airlines_reference.show(10, truncate=False)"
      ],
      "execution_count": null,
      "outputs": [
        {
          "output_type": "stream",
          "text": [
            "+--------------------+----+\n",
            "|name                |code|\n",
            "+--------------------+----+\n",
            "|Unknown             |-   |\n",
            "|Private flight      |-   |\n",
            "|1Time Airline       |1T  |\n",
            "|40-Mile Air         |Q5  |\n",
            "|Ansett Australia    |AN  |\n",
            "|Abacus International|1B  |\n",
            "|Abelag Aviation     |W9  |\n",
            "|Aigle Azur          |ZI  |\n",
            "|Aloha Airlines      |AQ  |\n",
            "|American Airlines   |AA  |\n",
            "+--------------------+----+\n",
            "only showing top 10 rows\n",
            "\n"
          ],
          "name": "stdout"
        }
      ]
    },
    {
      "cell_type": "markdown",
      "metadata": {
        "id": "qq_S-3hSBgFP"
      },
      "source": [
        "Identyfikacja wszystkich linii lotniczych i ustalenie ile lotów przypada na każdą z nich. "
      ]
    },
    {
      "cell_type": "code",
      "metadata": {
        "colab": {
          "base_uri": "https://localhost:8080/"
        },
        "id": "V_81HuoeBlMu",
        "outputId": "9b17f40b-6ed1-427f-b10d-3258d7940561"
      },
      "source": [
        "airlines = (g.edges\n",
        " .groupBy(\"airline\")\n",
        " .agg(F.count(\"airline\").alias(\"flights1\"))\n",
        " .sort(\"flights1\", ascending=False))\n",
        "\n",
        "full_name_airlines = (airlines_reference\n",
        "                      .join(airlines, airlines.airline == airlines_reference.code)\n",
        "                      .select(\"code\", \"name\", \"flights1\")\n",
        "                      .sort(\"flights1\", ascending=False))\n",
        "\n",
        "\n",
        "\n",
        "#ax = (full_name_airlines.toPandas()\n",
        "     # .plot(kind='bar', x='name', y='flights1', legend=None))\n",
        "        \n",
        "\n",
        "\n",
        "full_name_airlines.show(n=100,truncate = True)\n"
      ],
      "execution_count": null,
      "outputs": [
        {
          "output_type": "stream",
          "text": [
            "+----+--------------------+--------+\n",
            "|code|                name|flights1|\n",
            "+----+--------------------+--------+\n",
            "|  WN|  Southwest Airlines|  116849|\n",
            "|  DL|     Delta Air Lines|   81735|\n",
            "|  AA|   American Airlines|   77957|\n",
            "|  OO|             SkyWest|   65157|\n",
            "|  UA|     United Airlines|   52816|\n",
            "|  YX|    Midwest Airlines|   27398|\n",
            "|  B6|     JetBlue Airways|   26513|\n",
            "|  MQ|American Eagle Ai...|   25364|\n",
            "|  OH|              Comair|   23869|\n",
            "|  AS|     Alaska Airlines|   22974|\n",
            "|  9E|   Pinnacle Airlines|   21097|\n",
            "|  YV|       Mesa Airlines|   17866|\n",
            "|  EV|Atlantic Southeas...|   16661|\n",
            "|  NK|     Spirit Airlines|   14889|\n",
            "|  F9|   Frontier Airlines|   10297|\n",
            "|  G4|       Allegiant Air|    8033|\n",
            "|  HA|   Hawaiian Airlines|    7054|\n",
            "+----+--------------------+--------+\n",
            "\n"
          ],
          "name": "stdout"
        }
      ]
    },
    {
      "cell_type": "code",
      "metadata": {
        "id": "kYmsP77_Lg1C"
      },
      "source": [
        "print(\"typ sktuktury danych dla zmiennej g {0}\".format(type(g)))"
      ],
      "execution_count": null,
      "outputs": []
    },
    {
      "cell_type": "markdown",
      "metadata": {
        "id": "N5YQLZ8FKjKN"
      },
      "source": [
        "max opóżnienia w lotach"
      ]
    },
    {
      "cell_type": "code",
      "metadata": {
        "colab": {
          "base_uri": "https://localhost:8080/"
        },
        "id": "6E9_Ocy7KlyU",
        "outputId": "e092b13e-61f8-4eb0-d4f1-0850160ba60e"
      },
      "source": [
        "delayed_flights = (g.edges                      #zmienna z połączeniami (g.edges) filtrowana dla opóźnień więszych od 0\n",
        ".filter(\"deptDelay > 0\")\n",
        ".groupBy(\"dst\")\n",
        ".agg(F.avg(\"deptDelay\"), F.count(\"deptDelay\"))\n",
        ".withColumn(\"averageDelay\",F.round(F.col(\"avg(deptDelay)\"), 2))\n",
        ".withColumn(\"numberOfDelays\",F.col(\"count(deptDelay)\")))\n",
        "\n",
        "(delayed_flights                                 #join pomiędzy delayed_flights a g.vertices\n",
        ".join(g.vertices, delayed_flights.dst == g.vertices.id)\n",
        ".sort(F.desc(\"averageDelay\"))\n",
        ".select(\"dst\", \"name\", \"averageDelay\", \"numberOfDelays\")\n",
        ".show(n=100, truncate=False))"
      ],
      "execution_count": null,
      "outputs": [
        {
          "output_type": "stream",
          "text": [
            "+---+----------------------------------------------------------+------------+--------------+\n",
            "|dst|name                                                      |averageDelay|numberOfDelays|\n",
            "+---+----------------------------------------------------------+------------+--------------+\n",
            "|HGR|Hagerstown Regional Richard A Henson Field                |167.5       |4             |\n",
            "|OGD|Ogden Hinckley Airport                                    |161.0       |2             |\n",
            "|PUB|Pueblo Memorial Airport                                   |147.69      |16            |\n",
            "|HIB|Range Regional Airport                                    |135.57      |7             |\n",
            "|ERI|Erie International Tom Ridge Field                        |133.46      |13            |\n",
            "|ABR|Aberdeen Regional Airport                                 |124.25      |8             |\n",
            "|BFF|Western Neb. Rgnl/William B. Heilig Airport               |121.67      |12            |\n",
            "|JLN|Joplin Regional Airport                                   |117.06      |16            |\n",
            "|RHI|Rhinelander Oneida County Airport                         |115.89      |9             |\n",
            "|MEI|Key Field                                                 |113.48      |29            |\n",
            "|PIB|Hattiesburg Laurel Regional Airport                       |113.27      |22            |\n",
            "|CKB|North Central West Virginia Airport                       |110.52      |21            |\n",
            "|GTF|Great Falls International Airport                         |102.83      |24            |\n",
            "|BRD|Brainerd Lakes Regional Airport                           |92.75       |8             |\n",
            "|OTH|Southwest Oregon Regional Airport                         |85.57       |14            |\n",
            "|SLN|Salina Municipal Airport                                  |82.79       |24            |\n",
            "|JMS|Jamestown Regional Airport                                |80.33       |12            |\n",
            "|DLH|Duluth International Airport                              |80.19       |78            |\n",
            "|CMX|Houghton County Memorial Airport                          |79.18       |17            |\n",
            "|LSE|La Crosse Municipal Airport                               |78.85       |41            |\n",
            "|SHD|Shenandoah Valley Regional Airport                        |77.79       |28            |\n",
            "|TTN|Trenton Mercer Airport                                    |74.72       |93            |\n",
            "|SFB|Orlando Sanford International Airport                     |74.18       |375           |\n",
            "|MBS|MBS International Airport                                 |72.56       |70            |\n",
            "|MHK|Manhattan Regional Airport                                |71.97       |35            |\n",
            "|HOB|Lea County Regional Airport                               |71.2        |5             |\n",
            "|PIE|St Petersburg Clearwater International Airport            |70.8        |194           |\n",
            "|MQT|Sawyer International Airport                              |69.75       |28            |\n",
            "|GGG|East Texas Regional Airport                               |67.91       |11            |\n",
            "|HYS|Hays Regional Airport                                     |67.52       |31            |\n",
            "|MKG|Muskegon County Airport                                   |67.0        |15            |\n",
            "|PLN|Pellston Regional Airport of Emmet County Airport         |66.2        |15            |\n",
            "|LWB|Greenbrier Valley Airport                                 |64.55       |20            |\n",
            "|EAU|Chippewa Valley Regional Airport                          |63.77       |22            |\n",
            "|RFD|Chicago Rockford International Airport                    |63.71       |14            |\n",
            "|FAR|Hector International Airport                              |63.36       |126           |\n",
            "|HPN|Westchester County Airport                                |63.23       |316           |\n",
            "|SAF|Santa Fe Municipal Airport                                |62.9        |29            |\n",
            "|ACY|Atlantic City International Airport                       |62.67       |91            |\n",
            "|GFK|Grand Forks International Airport                         |61.87       |52            |\n",
            "|MOT|Minot International Airport                               |61.65       |43            |\n",
            "|MLI|Quad City International Airport                           |61.12       |121           |\n",
            "|ACV|Arcata Airport                                            |60.97       |30            |\n",
            "|ORD|Chicago O'Hare International Airport                      |60.78       |8867          |\n",
            "|FWA|Fort Wayne International Airport                          |59.61       |191           |\n",
            "|OWB|Owensboro Daviess County Airport                          |59.17       |6             |\n",
            "|DVL|Devils Lake Regional Airport                              |58.67       |6             |\n",
            "|MRY|Monterey Peninsula Airport                                |58.27       |89            |\n",
            "|LAN|Capital City Airport                                      |58.21       |68            |\n",
            "|ORH|Worcester Regional Airport                                |57.61       |41            |\n",
            "|MFR|Rogue Valley International Medford Airport                |56.57       |105           |\n",
            "|GRB|Austin Straubel International Airport                     |56.55       |108           |\n",
            "|SBA|Santa Barbara Municipal Airport                           |56.36       |173           |\n",
            "|CAK|Akron Canton Regional Airport                             |56.24       |237           |\n",
            "|BZN|Gallatin Field                                            |55.92       |75            |\n",
            "|SWF|Stewart International Airport                             |55.4        |53            |\n",
            "|AZO|Kalamazoo Battle Creek International Airport              |55.34       |50            |\n",
            "|PGD|Charlotte County Airport                                  |55.09       |132           |\n",
            "|PSC|Tri Cities Airport                                        |54.85       |67            |\n",
            "|SFO|San Francisco International Airport                       |54.4        |6593          |\n",
            "|BGR|Bangor International Airport                              |54.33       |82            |\n",
            "|UIN|Quincy Regional Baldwin Field                             |54.25       |28            |\n",
            "|BRW|Wiley Post Will Rogers Memorial Airport                   |54.0        |7             |\n",
            "|EWR|Newark Liberty International Airport                      |53.34       |5070          |\n",
            "|RST|Rochester International Airport                           |52.63       |89            |\n",
            "|COS|City of Colorado Springs Municipal Airport                |52.58       |289           |\n",
            "|CGI|Cape Girardeau Regional Airport                           |52.57       |14            |\n",
            "|PIA|General Wayne A. Downing Peoria International Airport     |52.49       |137           |\n",
            "|CID|The Eastern Iowa Airport                                  |52.2        |221           |\n",
            "|ASE|Aspen-Pitkin Co/Sardy Field                               |52.09       |53            |\n",
            "|LEX|Blue Grass Airport                                        |51.75       |281           |\n",
            "|BTV|Burlington International Airport                          |51.3        |244           |\n",
            "|IAD|Washington Dulles International Airport                   |50.85       |1826          |\n",
            "|RAP|Rapid City Regional Airport                               |50.48       |126           |\n",
            "|RDD|Redding Municipal Airport                                 |50.17       |23            |\n",
            "|BIS|Bismarck Municipal Airport                                |49.63       |75            |\n",
            "|DFW|Dallas Fort Worth International Airport                   |49.5        |6877          |\n",
            "|LYH|Lynchburg Regional Preston Glenn Field                    |49.48       |65            |\n",
            "|LBE|Arnold Palmer Regional Airport                            |49.26       |19            |\n",
            "|PAH|Barkley Regional Airport                                  |49.06       |18            |\n",
            "|CVG|Cincinnati Northern Kentucky International Airport        |48.91       |1374          |\n",
            "|AZA|Phoenix-Mesa-Gateway Airport                              |48.48       |174           |\n",
            "|BRO|Brownsville South Padre Island International Airport      |48.45       |38            |\n",
            "|STS|Charles M. Schulz Sonoma County Airport                   |48.38       |42            |\n",
            "|DBQ|Dubuque Regional Airport                                  |48.31       |16            |\n",
            "|LCK|Rickenbacker International Airport                        |48.25       |28            |\n",
            "|FAT|Fresno Yosemite International Airport                     |48.23       |236           |\n",
            "|LGA|La Guardia Airport                                        |48.02       |4804          |\n",
            "|ISP|Long Island Mac Arthur Airport                            |48.0        |304           |\n",
            "|IAH|George Bush Intercontinental Houston Airport              |47.88       |3271          |\n",
            "|MSP|Minneapolis-St Paul International/Wold-Chamberlain Airport|47.7        |3630          |\n",
            "|SPI|Abraham Lincoln Capital Airport                           |47.51       |47            |\n",
            "|CWA|Central Wisconsin Airport                                 |47.38       |52            |\n",
            "|PHL|Philadelphia International Airport                        |47.3        |3839          |\n",
            "|MOB|Mobile Regional Airport                                   |46.65       |153           |\n",
            "|BMI|Central Illinois Regional Airport at Bloomington-Normal   |46.62       |66            |\n",
            "|BFL|Meadows Field                                             |46.59       |44            |\n",
            "|TVC|Cherry Capital Airport                                    |46.13       |48            |\n",
            "|TYS|McGhee Tyson Airport                                      |45.49       |419           |\n",
            "|DCA|Ronald Reagan Washington National Airport                 |45.24       |3679          |\n",
            "+---+----------------------------------------------------------+------------+--------------+\n",
            "only showing top 100 rows\n",
            "\n"
          ],
          "name": "stdout"
        }
      ]
    },
    {
      "cell_type": "markdown",
      "metadata": {
        "id": "xmKeT6wJfUAp"
      },
      "source": [
        "Popular Airports Which airports have the most departing flights? We can work out the number of outgoing\n",
        "flights from an airport using the Degree Centrality algorithm:"
      ]
    },
    {
      "cell_type": "code",
      "metadata": {
        "colab": {
          "base_uri": "https://localhost:8080/"
        },
        "id": "i-mMQLkCfVVt",
        "outputId": "9ab7a999-f142-49be-b974-2e188932e6cf"
      },
      "source": [
        "airports_degree = g.outDegrees.withColumnRenamed(\"id\", \"oId\")\n",
        "\n",
        "full_airports_degree = (airports_degree\n",
        ".join(g.vertices, airports_degree.oId == g.vertices.id)\n",
        ".sort(\"outDegree\", ascending=False)\n",
        ".select(\"id\", \"name\", \"outDegree\"))\n",
        "\n",
        "full_airports_degree.show(n=10, truncate=False)"
      ],
      "execution_count": null,
      "outputs": [
        {
          "output_type": "stream",
          "text": [
            "+---+------------------------------------------------+---------+\n",
            "|id |name                                            |outDegree|\n",
            "+---+------------------------------------------------+---------+\n",
            "|ATL|Hartsfield Jackson Atlanta International Airport|33837    |\n",
            "|ORD|Chicago O'Hare International Airport            |28338    |\n",
            "|DFW|Dallas Fort Worth International Airport         |23765    |\n",
            "|CLT|Charlotte Douglas International Airport         |20251    |\n",
            "|DEN|Denver International Airport                    |19836    |\n",
            "|LAX|Los Angeles International Airport               |19059    |\n",
            "|PHX|Phoenix Sky Harbor International Airport        |15103    |\n",
            "|SFO|San Francisco International Airport             |14934    |\n",
            "|LGA|La Guardia Airport                              |14709    |\n",
            "|IAH|George Bush Intercontinental Houston Airport    |14407    |\n",
            "+---+------------------------------------------------+---------+\n",
            "only showing top 10 rows\n",
            "\n"
          ],
          "name": "stdout"
        }
      ]
    },
    {
      "cell_type": "code",
      "metadata": {
        "colab": {
          "base_uri": "https://localhost:8080/",
          "height": 287
        },
        "id": "7ayRbrk6f1jR",
        "outputId": "a3225ba4-ff74-45a0-8269-ce0772ef6968"
      },
      "source": [
        "plt.style.use('fivethirtyeight')\n",
        "ax = (full_airports_degree\n",
        ".toPandas()\n",
        ".head(10)\n",
        ".plot(kind='bar', x='id', y='outDegree', legend=None))\n",
        "ax.xaxis.set_label_text(\"\")\n",
        "plt.xticks(rotation=45)\n",
        "plt.tight_layout()\n",
        "plt.show()"
      ],
      "execution_count": null,
      "outputs": [
        {
          "output_type": "display_data",
          "data": {
            "image/png": "[encoded data removed]",
            "text/plain": [
              "<Figure size 432x288 with 1 Axes>"
            ]
          },
          "metadata": {
            "tags": []
          }
        }
      ]
    },
    {
      "cell_type": "markdown",
      "metadata": {
        "id": "_tlyAT_0gi27"
      },
      "source": [
        "W naszym scenariuszu często podróżujemy między zachodnim a wschodnim wybrzeżem i chcemy zobaczyć\n",
        "opóźnienia przez węzeł komunikacyjny, na przykład międzynarodowe lotnisko Chicago O’Hare (ORD).\n",
        "\n",
        "Po obliczeniu średniego opóźnienia pogrupowanego według miejsca docelowego dołączamy do wynikowego\n",
        "Spark DataFrame z DataFrame zawierającą wszystkie wierzchołki, abyśmy mogli wydrukować liste\n",
        "z nazwą lotniska docelowego.\n",
        "Uruchomienie tego kodu zwraca 10 miejsc docelowych z największymi opóźnieniami"
      ]
    },
    {
      "cell_type": "code",
      "metadata": {
        "colab": {
          "base_uri": "https://localhost:8080/"
        },
        "id": "8DG57YxkgkvT",
        "outputId": "cda951f1-6746-4fa3-aa66-3b0f50642034"
      },
      "source": [
        "delayed_flights = (g.edges\n",
        ".filter(\"src = 'ORD' and deptDelay > 0\")\n",
        ".groupBy(\"dst\")\n",
        ".agg(F.avg(\"deptDelay\"), F.count(\"deptDelay\"))\n",
        ".withColumn(\"averageDelay\",\n",
        "F.round(F.col(\"avg(deptDelay)\"), 2))\n",
        ".withColumn(\"numberOfDelays\",\n",
        "F.col(\"count(deptDelay)\")))\n",
        "\n",
        "(delayed_flights\n",
        ".join(g.vertices, delayed_flights.dst == g.vertices.id)     \n",
        ".sort(F.desc(\"averageDelay\"))\n",
        ".select(\"dst\", \"name\", \"averageDelay\", \"numberOfDelays\")\n",
        ".show(n=10, truncate=False))"
      ],
      "execution_count": null,
      "outputs": [
        {
          "output_type": "stream",
          "text": [
            "+---+-------------------------------------------+------------+--------------+\n",
            "|dst|name                                       |averageDelay|numberOfDelays|\n",
            "+---+-------------------------------------------+------------+--------------+\n",
            "|CKB|North Central West Virginia Airport        |145.08      |12            |\n",
            "|OGG|Kahului Airport                            |119.67      |9             |\n",
            "|MQT|Sawyer International Airport               |114.75      |12            |\n",
            "|MOB|Mobile Regional Airport                    |102.2       |10            |\n",
            "|TTN|Trenton Mercer Airport                     |101.18      |17            |\n",
            "|AVL|Asheville Regional Airport                 |98.5        |28            |\n",
            "|ISP|Long Island Mac Arthur Airport             |94.08       |13            |\n",
            "|ANC|Ted Stevens Anchorage International Airport|83.74       |23            |\n",
            "|BTV|Burlington International Airport           |83.2        |25            |\n",
            "|CMX|Houghton County Memorial Airport           |79.18       |17            |\n",
            "+---+-------------------------------------------+------------+--------------+\n",
            "only showing top 10 rows\n",
            "\n"
          ],
          "name": "stdout"
        }
      ]
    },
    {
      "cell_type": "markdown",
      "metadata": {
        "id": "Y6vYNiz2hPb6"
      },
      "source": [
        "To interesujące, ale jeden punkt danych naprawdę się wyróżnia: 11 lotów z ORD do CKB\n",
        "były opóźnione średnio o ponad 2,5 godziny! Znajdźmy loty pomiędzy\n",
        "tymi lotniskami i zobaczmy co się dzieje"
      ]
    },
    {
      "cell_type": "code",
      "metadata": {
        "colab": {
          "base_uri": "https://localhost:8080/"
        },
        "id": "rJ2T11uViq2I",
        "outputId": "0ef3a457-1839-46c7-a293-e5521b709b5d"
      },
      "source": [
        "from_expr = 'id = \"ORD\"'\n",
        "to_expr = 'id = \"CKB\"'\n",
        "ord_to_ckb = g.bfs(from_expr, to_expr)\n",
        "ord_to_ckb = ord_to_ckb.select(\n",
        "F.col(\"e0.date\"),\n",
        "F.col(\"e0.time\"),\n",
        "F.col(\"e0.flightNumber\"),\n",
        "F.col(\"e0.deptDelay\"))\n",
        "ord_to_ckb.show(n=20, truncate=False)"
      ],
      "execution_count": null,
      "outputs": [
        {
          "output_type": "stream",
          "text": [
            "+----------+----+------------+---------+\n",
            "|date      |time|flightNumber|deptDelay|\n",
            "+----------+----+------------+---------+\n",
            "|2018-05-01|1645|5066        |43.0     |\n",
            "|2018-05-02|1645|5066        |881.0    |\n",
            "|2018-05-03|1645|5066        |-6.0     |\n",
            "|2018-05-16|1645|5066        |20.0     |\n",
            "|2018-05-17|1645|5066        |-6.0     |\n",
            "|2018-05-18|1645|5066        |30.0     |\n",
            "|2018-05-27|1645|5066        |-4.0     |\n",
            "|2018-05-28|1645|5066        |48.0     |\n",
            "|2018-05-29|1645|5066        |-1.0     |\n",
            "|2018-05-30|1645|5066        |237.0    |\n",
            "|2018-05-04|1645|5066        |0.0      |\n",
            "|2018-05-05|1645|5066        |-10.0    |\n",
            "|2018-05-06|1645|5066        |-7.0     |\n",
            "|2018-05-07|1645|5066        |-8.0     |\n",
            "|2018-05-23|1645|5066        |-3.0     |\n",
            "|2018-05-24|1645|5066        |-11.0    |\n",
            "|2018-05-25|1645|5066        |0.0      |\n",
            "|2018-05-26|1645|5066        |-5.0     |\n",
            "|2018-05-08|1645|5066        |-4.0     |\n",
            "|2018-05-09|1645|5066        |-4.0     |\n",
            "+----------+----+------------+---------+\n",
            "only showing top 20 rows\n",
            "\n"
          ],
          "name": "stdout"
        }
      ]
    },
    {
      "cell_type": "markdown",
      "metadata": {
        "id": "lMmRL2tZi5Xt"
      },
      "source": [
        "Teraz możemy wydrukować wykres za pomocą następującego kodu. \n",
        "Około połowa lotów była opóźniona, ale opóźnienie o ponad 14 godzin w dniu 2 maja,\n",
        "2018, znacznie wypaczył średnią.\n",
        "A co, jeśli chcemy znaleźć opóźnienia przy wejściu i wyjściu z przybrzeżnego lotniska? Te\n",
        "lotniska często są narażone na niekorzystne warunki pogodowe, więc możemy być w stanie znaleźć\n",
        "kilka interesujących opóźnień"
      ]
    },
    {
      "cell_type": "code",
      "metadata": {
        "colab": {
          "base_uri": "https://localhost:8080/",
          "height": 289
        },
        "id": "zDrWZQpqjIlj",
        "outputId": "16af3d36-93be-4df5-f24c-a98f2085285b"
      },
      "source": [
        "ax = (ord_to_ckb\n",
        ".sort(\"date\")\n",
        ".toPandas()\n",
        ".plot(kind='bar', x='date', y='deptDelay', legend=None))\n",
        "ax.xaxis.set_label_text(\"\")\n",
        "plt.tight_layout()\n",
        "plt.show()"
      ],
      "execution_count": null,
      "outputs": [
        {
          "output_type": "display_data",
          "data": {
            "image/png": "[encoded data removed]",
            "text/plain": [
              "<Figure size 432x288 with 1 Axes>"
            ]
          },
          "metadata": {
            "tags": []
          }
        }
      ]
    },
    {
      "cell_type": "markdown",
      "metadata": {
        "id": "S7rSNT_2qQqc"
      },
      "source": [
        "dataFrame - zoptymalizowane pod kątem exportu damych z plików z kolumnani  CSV, JSON. Praca w kontekscie SQL. Szybsze niz RDD. Wykorzystujemy gdy używamy wysoko poziomowych funkcji API PySPARK takich jak agregacja, sortowanie"
      ]
    },
    {
      "cell_type": "markdown",
      "metadata": {
        "id": "st-x5yDBqoJ2"
      },
      "source": [
        "RDD - pierwotna struktura SPARKA, możliwa praca współdzielona w klastrze, zapewnia niezmienialnośc danych pierwotnych, możliwość odtworzenia danych początkowych np. w wyniku awarii. Nie maożna ich optymalizować w trakcie działania. Wolniejsze niż DataFrame. Gdy dane są nie ustrukturyzowane lub potrzebujemy działań niskiego poziomu. Np system rekomendacji fimów oparty na zbudowaniu profilu osoby oceniającej.\n",
        " \n",
        " \n",
        "***GRAFY***\n",
        " \n",
        "Graf w informatyce jest najbardziej skomplikowaną podstawową strukturą danych. Stosy, kolejki, listy i drzewa można traktować jako szczególne przypadki grafu lub grafy uproszczone.\n",
        "Grafy dostarczają nam potężne możliwości tworzenia różnego rodzaju relacji pomiędzy danymi, które można wiązać na wiele różnych sposobów, reprezentując lub modelując złożone zależności z otaczającego nas świata.\n",
        "Grafy możemy zaimplementować w postaci tablicy określającej rodzaj połączenia oraz jego etykietę lub dynamicznie korzystając ze wskaźników."
      ]
    }
  ]
}